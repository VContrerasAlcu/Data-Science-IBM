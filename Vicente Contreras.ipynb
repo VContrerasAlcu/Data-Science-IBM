{
 "cells": [
  {
   "cell_type": "markdown",
   "metadata": {},
   "source": [
    "<center>\n",
    "    <img src=\"https://cf-courses-data.s3.us.cloud-object-storage.appdomain.cloud/IBMDeveloperSkillsNetwork-DS0105EN-SkillsNetwork/labs/Module2/images/SN_web_lightmode.png\" width=\"300\" alt=\"cognitiveclass.ai logo\">\n",
    "</center>\n"
   ]
  },
  {
   "cell_type": "markdown",
   "metadata": {},
   "source": [
    "# **Data Science Tools**"
   ]
  },
  {
   "cell_type": "markdown",
   "metadata": {},
   "source": [
    "### *This is a pair evaluation notebook that is part of the second data scientist course*"
   ]
  },
  {
   "cell_type": "markdown",
   "metadata": {},
   "source": [
    "#### The most used programming languages used in data science are:\n",
    " 1. Python\n",
    " 2. R\n",
    " 3. Julia\n",
    " 4. Scala\n",
    " 5. C++\n",
    " 6. Java\n",
    " 7. JavaScript\n",
    " 8. SQL\n",
    " 9. PHP\n",
    " 10. Go"
   ]
  },
  {
   "cell_type": "markdown",
   "metadata": {},
   "source": [
    "#### Some of the most used libraries in data science are :\n",
    "* Pandas\n",
    "* Numpy\n",
    "* Matplotlib\n",
    "* Scikit-learn\n",
    "* TensorFlow\n",
    "* Keras\n",
    "* Pytorch"
   ]
  },
  {
   "cell_type": "markdown",
   "metadata": {},
   "source": [
    "#### Data Science Tools\n",
    "|Data Management|ETL|Data Visualization|Model Deployment|Model Build|Model Monitoring|Code Asset Management|Data Asset Management|\n",
    "|---------------|---|------------------|----------------|-----------|----------------|---------------------|-------------------------|\n",
    "|MySQL|Apache Airflow|Pixie Dust|Apache Prection|Watson Studio|ModelDB|Git|Apache Atlas|\n",
    "|PostgreSQL|Kube Flow|Hue|Seldon|Azure ML Studio|Prometeus|GitHub|Egeria|\n",
    "|NoSQL|Apache Kafka|Kibana|TensorFlow||IBM AI Fairness|GitLab||"
   ]
  },
  {
   "cell_type": "markdown",
   "metadata": {},
   "source": [
    "#### Examples of arithmetic operations\n",
    "##### 3 + 5 = 8\n",
    "##### 10 - 5 = 5\n",
    "##### 6 * 3 = 18\n",
    "##### 80 / 4 = 20"
   ]
  },
  {
   "cell_type": "code",
   "execution_count": 3,
   "metadata": {},
   "outputs": [
    {
     "name": "stdout",
     "output_type": "stream",
     "text": [
      "8\n",
      "18\n"
     ]
    }
   ],
   "source": [
    "# Addition and multiplication\n",
    "print(3+5)\n",
    "print(6*3)"
   ]
  },
  {
   "cell_type": "code",
   "execution_count": 7,
   "metadata": {},
   "outputs": [
    {
     "name": "stdin",
     "output_type": "stream",
     "text": [
      "Enter the minutes:  150\n"
     ]
    },
    {
     "name": "stdout",
     "output_type": "stream",
     "text": [
      "2.5 hours\n"
     ]
    }
   ],
   "source": [
    "# Convert minutes to hours\n",
    "a = input(\"Enter the minutes: \")\n",
    "print(str(float(a)/60) + \" hours\")"
   ]
  },
  {
   "cell_type": "code",
   "execution_count": 8,
   "metadata": {},
   "outputs": [
    {
     "name": "stdout",
     "output_type": "stream",
     "text": [
      "OBJETIVES: \n",
      "1. Learn Data Science\n",
      "2. Get the ibm data scientist certificate\n",
      "3. Work as a data scientist\n"
     ]
    }
   ],
   "source": [
    "# List Objetives\n",
    "print(\"OBJETIVES: \")\n",
    "print(\"1. Learn Data Science\")\n",
    "print(\"2. Get the ibm data scientist certificate\")\n",
    "print(\"3. Work as a data scientist\")"
   ]
  },
  {
   "cell_type": "markdown",
   "metadata": {},
   "source": [
    "#### **Author: Vicente Contreras Alcuña**"
   ]
  },
  {
   "cell_type": "code",
   "execution_count": null,
   "metadata": {},
   "outputs": [],
   "source": []
  }
 ],
 "metadata": {
  "kernelspec": {
   "display_name": "Python 3 (ipykernel)",
   "language": "python",
   "name": "python3"
  },
  "language_info": {
   "codemirror_mode": {
    "name": "ipython",
    "version": 3
   },
   "file_extension": ".py",
   "mimetype": "text/x-python",
   "name": "python",
   "nbconvert_exporter": "python",
   "pygments_lexer": "ipython3",
   "version": "3.11.9"
  }
 },
 "nbformat": 4,
 "nbformat_minor": 4
}
